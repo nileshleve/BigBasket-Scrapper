{
  "nbformat": 4,
  "nbformat_minor": 0,
  "metadata": {
    "colab": {
      "name": "Bigbasket-Scrapper",
      "provenance": [],
      "collapsed_sections": []
    },
    "kernelspec": {
      "display_name": "Python 3",
      "name": "python3"
    }
  },
  "cells": [
    {
      "cell_type": "code",
      "metadata": {
        "id": "qIFQG_MbdLXT",
        "colab_type": "code",
        "colab": {}
      },
      "source": [
        "!apt-get update > /dev/null # --fix-missing\n",
        "!apt install chromium-chromedriver > /dev/null\n",
        "# !cp /usr/lib/chromium-browser/chromedriver /usr/bin > /dev/null\n",
        "!pip install selenium > /dev/null"
      ],
      "execution_count": null,
      "outputs": []
    },
    {
      "cell_type": "code",
      "metadata": {
        "id": "P2xT3rSUw-L2",
        "colab_type": "code",
        "colab": {}
      },
      "source": [
        "!git clone https://github.com/robinsdeepak/BigBasket-Scrapper.git\n",
        "%cd BigBasket-Scrapper"
      ],
      "execution_count": null,
      "outputs": []
    },
    {
      "cell_type": "code",
      "metadata": {
        "id": "ILZPfJSTtKHT",
        "colab_type": "code",
        "colab": {}
      },
      "source": [
        "!python Script.py"
      ],
      "execution_count": null,
      "outputs": []
    },
    {
      "cell_type": "code",
      "metadata": {
        "id": "FoGGm5xjw37g",
        "colab_type": "code",
        "colab": {}
      },
      "source": [
        ""
      ],
      "execution_count": null,
      "outputs": []
    }
  ]
}